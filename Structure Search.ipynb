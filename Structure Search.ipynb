{
 "cells": [
  {
   "attachments": {},
   "cell_type": "markdown",
   "id": "8e1b0ce1",
   "metadata": {},
   "source": [
    "# Cell detection in single cell electron microscopy"
   ]
  },
  {
   "attachments": {},
   "cell_type": "markdown",
   "id": "239b3b5e",
   "metadata": {},
   "source": [
    "## Import libraries"
   ]
  },
  {
   "cell_type": "code",
   "execution_count": 1,
   "id": "f54d7bf0",
   "metadata": {},
   "outputs": [],
   "source": [
    "import numpy as np\n",
    "import cv2\n",
    "import os\n",
    "import multiprocessing as mp"
   ]
  },
  {
   "attachments": {},
   "cell_type": "markdown",
   "id": "443a65f4",
   "metadata": {},
   "source": [
    "## Similarity-based Search"
   ]
  },
  {
   "cell_type": "code",
   "execution_count": 2,
   "id": "6e957f7a",
   "metadata": {},
   "outputs": [],
   "source": [
    "class Search(object):\n",
    "    \n",
    "    # compute mean squared error between encodings\n",
    "    @staticmethod\n",
    "    def MSE(encoding1, encoding2):\n",
    "        return np.mean((encoding1-encoding2)**2, axis=2)\n",
    "            \n",
    "    @staticmethod\n",
    "    def jaccardIndex(mask, image):\n",
    "        image = cv2.imread('labels/'+image, cv2.IMREAD_GRAYSCALE)\n",
    "        image = np.where(image == 1, True, False)\n",
    "        return np.sum(mask & image) / np.sum(mask | image)\n",
    "    \n",
    "    @staticmethod\n",
    "    def isCorrect(patch, image):\n",
    "        image = cv2.imread('labels/'+image, cv2.IMREAD_GRAYSCALE)\n",
    "        image = np.where(image == 1, True, False)\n",
    "        return np.any(image[patch[0]:patch[0]+100, patch[1]:patch[1]+100])\n",
    "    \n",
    "    def __init__(self, encodingsFile):\n",
    "        self.encodings = np.loadtxt(encodingsFile, delimiter=';')[::10]\n",
    "        \n",
    "    def query(self, queriesFile):\n",
    "        queries = np.loadtxt(queriesFile, delimiter=';')\n",
    "        \n",
    "        distances = np.fromfunction(\n",
    "                lambda queryIndex, encodingIndex: self.MSE(queries[queryIndex, 3:], self.encodings[encodingIndex, 3:]),\n",
    "                (queries.shape[0], self.encodings.shape[0]),\n",
    "                dtype=int\n",
    "            )\n",
    "            \n",
    "        # distances to similarity\n",
    "        similarities = 1 / np.exp(distances)\n",
    "        \n",
    "        # compute mean similarity wrt queries\n",
    "        similarities = np.mean(similarities, axis=0)\n",
    "        \n",
    "        # take some patches with highest similarity\n",
    "        threshold = np.quantile(similarities, 0.97)\n",
    "        matches = np.argwhere(similarities >= threshold).flatten()\n",
    "        similarities = similarities[matches].reshape(-1,1)\n",
    "        matches = self.encodings[matches, :3].astype(int)\n",
    "        \n",
    "        filteredMatches = []\n",
    "        # filter overlapping patches\n",
    "        while matches.shape[0] > 0:\n",
    "            # find overlapping patches\n",
    "            overlapping = np.argwhere(\n",
    "                (matches[..., 0] == matches[0, 0]) *\n",
    "                (np.abs(matches[..., 1] - matches[0, 1]) <= 100) * \n",
    "                (np.abs(matches[..., 2] - matches[0, 2]) <= 100)\n",
    "            ).flatten()\n",
    "            \n",
    "            # find patch with highest similarity\n",
    "            maximum = np.argmax(similarities[overlapping])\n",
    "            filteredMatches.append(matches[maximum])\n",
    "            \n",
    "            # remove overlapping patches\n",
    "            matches = np.delete(matches, overlapping, axis=0)\n",
    "            similarities = np.delete(similarities, overlapping, axis=0)\n",
    "        \n",
    "            \n",
    "        matches = filteredMatches\n",
    "        \n",
    "        # indicate matches in images\n",
    "        images = os.listdir('images/')\n",
    "        jaccard = []\n",
    "        TP = 0\n",
    "        FP = 0\n",
    "        for imgIndex, image in enumerate(images):\n",
    "            img = cv2.imread('images/' + image)\n",
    "            mask = np.zeros(img.shape[:2], np.uint8)\n",
    "            for match in matches:\n",
    "                match = match.astype(int)\n",
    "                if match[0] == imgIndex:\n",
    "                    if self.isCorrect(match[1:], image):\n",
    "                        TP += 1\n",
    "                        cv2.rectangle(img, tuple(match[2:0:-1]), tuple(match[2:0:-1]+[100, 100]), (0, 255, 0), 2)\n",
    "                    else:\n",
    "                        FP += 1\n",
    "                        cv2.rectangle(img, tuple(match[2:0:-1]), tuple(match[2:0:-1]+[100, 100]), (0, 0, 255), 2)\n",
    "                    mask[match[1]:match[1]+100, match[2]:match[2]+100] |= True\n",
    "            jaccard.append(self.jaccardIndex(mask, image))\n",
    "            cv2.imwrite('results/' + image, img)     \n",
    "        \n",
    "        jaccard = jaccard[20:]\n",
    "        \n",
    "        # print results\n",
    "        print(\"Median Jaccard Index:\")\n",
    "        print(np.median(jaccard))\n",
    "        print(\"Minimum Jaccard Index:\")\n",
    "        print(np.min(jaccard))\n",
    "        print(\"Maximum Jaccard Index:\")\n",
    "        print(np.max(jaccard))\n",
    "        print(\"True Positives:\")\n",
    "        print(TP / (TP + FP))\n",
    "        print(\"False Positives:\")\n",
    "        print(FP / (TP + FP))"
   ]
  },
  {
   "cell_type": "code",
   "execution_count": 4,
   "id": "628fb464",
   "metadata": {},
   "outputs": [
    {
     "name": "stdout",
     "output_type": "stream",
     "text": [
      "Median Jaccard Index:\n",
      "0.0\n",
      "Minimum Jaccard Index:\n",
      "0.0\n",
      "Maximum Jaccard Index:\n",
      "0.1390848986028832\n",
      "True Positives:\n",
      "0.14886164623467601\n",
      "False Positives:\n",
      "0.851138353765324\n"
     ]
    }
   ],
   "source": [
    "search = Search(\"encodings_ae.csv\")\n",
    "search.query(\"queries_ae.csv\")"
   ]
  },
  {
   "attachments": {},
   "cell_type": "markdown",
   "id": "a8777843",
   "metadata": {},
   "source": [
    "## Clustering"
   ]
  },
  {
   "cell_type": "code",
   "execution_count": 3,
   "id": "612bee3f",
   "metadata": {},
   "outputs": [],
   "source": [
    "from sklearn.cluster import AgglomerativeClustering"
   ]
  },
  {
   "cell_type": "code",
   "execution_count": 5,
   "id": "7475a622",
   "metadata": {},
   "outputs": [],
   "source": [
    "class Cluster(object):\n",
    "    \n",
    "    # compute mean squared error between encodings\n",
    "    @staticmethod\n",
    "    def MSE(encoding1, encoding2):\n",
    "        return np.mean((encoding1-encoding2)**2, axis=2)\n",
    "            \n",
    "    @staticmethod\n",
    "    def jaccardIndex(mask, image):\n",
    "        image = cv2.imread('labels/'+image, cv2.IMREAD_GRAYSCALE)\n",
    "        image = np.where(image == 1, True, False)\n",
    "        return np.sum(mask & image) / np.sum(mask | image)\n",
    "    \n",
    "    @staticmethod\n",
    "    def isCorrect(patch, image):\n",
    "        image = cv2.imread('labels/'+image, cv2.IMREAD_GRAYSCALE)\n",
    "        image = np.where(image == 1, True, False)\n",
    "        return np.any(image[patch[0]:patch[0]+100, patch[1]:patch[1]+100])\n",
    "    \n",
    "    def __init__(self, encodingsFile):\n",
    "        self.encodings = np.loadtxt(encodingsFile, delimiter=';')[::10]\n",
    "        \n",
    "    def query(self, queriesFile):\n",
    "        queries = np.loadtxt(queriesFile, delimiter=';')\n",
    "        encodings = np.append(self.encodings, queries, axis=0)\n",
    "        clustering = AgglomerativeClustering(n_clusters=None, distance_threshold=0.09, linkage='average')\n",
    "        labels = clustering.fit_predict(encodings[:, 3:])\n",
    "\n",
    "        targetLabels = labels[-queries.shape[0]:]\n",
    "        encodings = encodings[:-queries.shape[0]]\n",
    "        \n",
    "        images = os.listdir('images/')\n",
    "        jaccard = []\n",
    "        TP = 0\n",
    "        FP = 0\n",
    "        for imgIndex, image in enumerate(images):\n",
    "            img = cv2.imread('images/' + image)\n",
    "            mask = np.zeros(img.shape[:2], np.uint8)\n",
    "            for matchIndex, match in enumerate(encodings[..., :3]):\n",
    "                match = match.astype(int)\n",
    "                if match[0] == imgIndex and labels[matchIndex] in targetLabels:\n",
    "                    correct = self.isCorrect(match[1:3], image)\n",
    "                    if correct:\n",
    "                        TP += 1\n",
    "                        cv2.rectangle(img, tuple(match[2:0:-1]), tuple(match[2:0:-1]+[100, 100]), (0, 255, 0), 2)\n",
    "                    else:\n",
    "                        FP += 1\n",
    "                        cv2.rectangle(img, tuple(match[2:0:-1]), tuple(match[2:0:-1]+[100, 100]), (0, 0, 255), 2)\n",
    "                    mask[match[1]:match[1]+100, match[2]:match[2]+100] |= True\n",
    "            jaccard.append(self.jaccardIndex(mask, image))\n",
    "            cv2.imwrite('results2/' + image, img)     \n",
    "        \n",
    "        jaccard = jaccard[20:]\n",
    "        # print results\n",
    "        print(\"Median Jaccard Index:\")\n",
    "        print(np.median(jaccard))\n",
    "        print(\"Minimum Jaccard Index:\")\n",
    "        print(np.min(jaccard))\n",
    "        print(\"Maximum Jaccard Index:\")\n",
    "        print(np.max(jaccard))\n",
    "        print(\"True Positives:\")\n",
    "        print(TP / (TP + FP))\n",
    "        print(\"False Positives:\")\n",
    "        print(FP / (TP + FP))"
   ]
  },
  {
   "cell_type": "code",
   "execution_count": 6,
   "id": "1aa92710",
   "metadata": {},
   "outputs": [
    {
     "name": "stdout",
     "output_type": "stream",
     "text": [
      "Median Jaccard Index:\n",
      "0.0\n",
      "Minimum Jaccard Index:\n",
      "0.0\n",
      "Maximum Jaccard Index:\n",
      "0.39570936600237117\n",
      "True Positives:\n",
      "0.5210526315789473\n",
      "False Positives:\n",
      "0.4789473684210526\n"
     ]
    }
   ],
   "source": [
    "search = Cluster(\"encodings_ae.csv\")\n",
    "search.query(\"queries_ae.csv\")"
   ]
  }
 ],
 "metadata": {
  "kernelspec": {
   "display_name": "Python 3 (ipykernel)",
   "language": "python",
   "name": "python3"
  },
  "language_info": {
   "codemirror_mode": {
    "name": "ipython",
    "version": 3
   },
   "file_extension": ".py",
   "mimetype": "text/x-python",
   "name": "python",
   "nbconvert_exporter": "python",
   "pygments_lexer": "ipython3",
   "version": "3.9.13"
  }
 },
 "nbformat": 4,
 "nbformat_minor": 5
}
